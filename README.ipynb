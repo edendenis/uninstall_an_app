{
 "cells": [
  {
   "cell_type": "markdown",
   "metadata": {},
   "source": [
    "# Como configurar/instalar/usar o `desinstalar uma aplicação` no `Linux Ubuntu`\n",
    "\n",
    "## Resumo\n",
    "\n",
    "Neste documento estão contidos os principais comandos e configurações para configurar/instalar/usar o `desinstalar uma aplicação` no `Linux Ubuntu`.\n",
    "\n",
    "## _Abstract_\n",
    "\n",
    "_In this document are contained the main commands and settings to set up/install the `uninstall an application` on `Linux Ubuntu`._"
   ]
  },
  {
   "cell_type": "markdown",
   "metadata": {},
   "source": [
    "## Descrição [2]\n",
    "\n",
    "### `application`\n",
    "\n",
    "Uma aplicação, ou _software_ aplicativo, refere-se a um programa de computador projetado para realizar tarefas específicas e resolver necessidades dos usuários. Essas tarefas podem variar amplamente, desde processamento de texto e planilhas até navegação na web, jogos, edição de imagens, entre outros. As aplicações são desenvolvidas para serem executadas em sistemas operacionais específicos, como Windows, macOS, Linux, Android ou iOS, e podem ser distribuídas tanto comercialmente quanto de forma gratuita.\n"
   ]
  },
  {
   "cell_type": "markdown",
   "metadata": {},
   "source": [
    "## 1. Como configurar/instalar/usar a `taskbar` no `desinstalar uma aplicação` [1][3]\n",
    "\n",
    "Para configurar/instalar/usar a `desinstalar uma aplicação` no `Linux Ubuntu`, você pode seguir estes passos:\n",
    "\n",
    "1. Abra o `Terminal Emulator`. Você pode fazer isso pressionando: `Ctrl + Alt + T`    "
   ]
  },
  {
   "cell_type": "markdown",
   "metadata": {},
   "source": [
    "2. Certifique-se de que seu sistema esteja limpo e atualizado.\n",
    "\n",
    "    2.1 Limpar o `cache` do gerenciador de pacotes `apt`. Especificamente, ele remove todos os arquivos de pacotes (`.deb`) baixados pelo `apt` e armazenados em `/var/cache/apt/archives/`. Digite o seguinte comando: `sudo apt clean` \n",
    "    \n",
    "    2.2 Remover pacotes `.deb` antigos ou duplicados do cache local. É útil para liberar espaço, pois remove apenas os pacotes que não podem mais ser baixados (ou seja, versões antigas de pacotes que foram atualizados). Digite o seguinte comando: `sudo apt autoclean`\n",
    "\n",
    "    2.3 Remover pacotes que foram automaticamente instalados para satisfazer as dependências de outros pacotes e que não são mais necessários. Digite o seguinte comando: `sudo apt autoremove -y`\n",
    "\n",
    "    2.4 Buscar as atualizações disponíveis para os pacotes que estão instalados em seu sistema. Digite o seguinte comando e pressione `Enter`: `sudo apt update`\n",
    "\n",
    "    2.5 **Corrigir pacotes quebrados**: Isso atualizará a lista de pacotes disponíveis e tentará corrigir pacotes quebrados ou com dependências ausentes: `sudo apt --fix-broken install`\n",
    "\n",
    "    2.6 Limpar o `cache` do gerenciador de pacotes `apt`. Especificamente, ele remove todos os arquivos de pacotes (`.deb`) baixados pelo `apt` e armazenados em `/var/cache/apt/archives/`. Digite o seguinte comando: `sudo apt clean` \n",
    "    \n",
    "    2.7 Para ver a lista de pacotes a serem atualizados, digite o seguinte comando e pressione `Enter`:  `sudo apt list --upgradable`\n",
    "\n",
    "    2.8 Realmente atualizar os pacotes instalados para as suas versões mais recentes, com base na última vez que você executou `sudo apt update`. Digite o seguinte comando e pressione `Enter`: `sudo apt full-upgrade -y`\n",
    "    "
   ]
  },
  {
   "cell_type": "markdown",
   "metadata": {},
   "source": [
    "Para desinstalar uma aplicação no `Linux Ubuntu`, você pode usar o comando `apt-get` ou `dpkg`, dependendo de como você instalou o programa inicialmente. Aqui estão os passos para desinstalá-lo:\n",
    "\n",
    "### 1.1 Usando `apt-get`\n",
    "\n",
    "1. Se você instalou o 4K Video Downloader usando o apt-get, use o seguinte comando: `sudo apt-get remove <nome_da_aplicacao>`\n",
    "\n",
    "2. Para remover também os arquivos de configuração, use: `sudo apt-get purge <nome_da_aplicacao>`\n"
   ]
  },
  {
   "cell_type": "markdown",
   "metadata": {
    "vscode": {
     "languageId": "plaintext"
    }
   },
   "source": [
    "### 1.2 Usando `dpkg`\n",
    "\n",
    "1. Se você instalou a aplicação usando um pacote `.deb`, você pode removê-lo com o seguinte comando: `sudo dpkg -r <nome_da_aplicacao>`\n",
    "\n",
    "2. Para remover completamente, incluindo arquivos de configuração, use: `sudo dpkg --purge <nome_da_aplicacao>`\n"
   ]
  },
  {
   "cell_type": "markdown",
   "metadata": {
    "vscode": {
     "languageId": "plaintext"
    }
   },
   "source": [
    "1.3 Usando `apt`\n",
    "\n",
    "1. Outra maneira de remover o pacote é usar o comando `apt`: `sudo apt remove <nome_da_aplicacao>`\n",
    "\n",
    "2. Para remover completamente, incluindo arquivos de configuração, use: `sudo apt purge <nome_da_aplicacao>`\n"
   ]
  },
  {
   "cell_type": "code",
   "execution_count": null,
   "metadata": {
    "vscode": {
     "languageId": "plaintext"
    }
   },
   "outputs": [],
   "source": [
    "## 2. Autoclean e Autoremove\n",
    "\n",
    "1. Após desinstalar o programa, é uma boa prática limpar pacotes não utilizados:\n",
    "\n",
    "```\n",
    "sudo apt-get autoremove\n",
    "sudo apt-get autoclean\n",
    "```\n",
    "\n",
    "Isso removerá a aplicação do seu sistema `Linux Ubuntu`."
   ]
  },
  {
   "cell_type": "markdown",
   "metadata": {
    "vscode": {
     "languageId": "plaintext"
    }
   },
   "source": [
    "### 3. Código completo para configurar/instalar/usar\n",
    "\n",
    "Para configurar/instalar/usar o `desinstalar uma aplicação` no `Linux Ubuntu` sem precisar digitar linha por linha, você pode seguir estas etapas:\n",
    "\n",
    "1. Abra o `Terminal Emulator`. Você pode fazer isso pressionando: `Ctrl + Alt + T`\n",
    "\n",
    "2. Digite o seguinte comando e pressione `Enter`:\n",
    "\n",
    "    ```\n",
    "    NÂO há.\n",
    "    ```\n"
   ]
  },
  {
   "cell_type": "markdown",
   "metadata": {
    "vscode": {
     "languageId": "plaintext"
    }
   },
   "source": [
    "## Referências\n",
    "\n",
    "[1] OPENAI. ***Desinstalar uma aplicação do linux ubunru.*** Disponível em: <https://chatgpt.com/c/7eccedfc-836d-4e28-a696-be591ae9435f> (texto adaptado). StackExchange. Acessado em: 22/12/2023 11:35.\n",
    "\n",
    "[2] OPENAI. ***Vs code: editor popular.*** Disponível em: <https://chat.openai.com/c/b640a25d-f8e3-4922-8a3b-ed74a2657e42> (texto adaptado). ChatGPT. Acessado em: 22/12/2023 11:36.\n"
   ]
  }
 ],
 "metadata": {
  "kernelspec": {
   "display_name": "Python 3",
   "language": "python",
   "name": "python3"
  },
  "language_info": {
   "codemirror_mode": {
    "name": "ipython",
    "version": 3
   },
   "file_extension": ".py",
   "mimetype": "text/x-python",
   "name": "python",
   "nbconvert_exporter": "python",
   "pygments_lexer": "ipython3",
   "version": "3.11.5"
  },
  "orig_nbformat": 4
 },
 "nbformat": 4,
 "nbformat_minor": 2
}
